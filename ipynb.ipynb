{
 "cells": [
  {
   "cell_type": "markdown",
   "metadata": {},
   "source": [
    "# Import Libraries and Create Directories\n",
    "-Setup everything to load in our data"
   ]
  },
  {
   "cell_type": "code",
   "execution_count": 1,
   "metadata": {},
   "outputs": [
    {
     "name": "stdout",
     "output_type": "stream",
     "text": [
      "2.1.0\n"
     ]
    }
   ],
   "source": [
    "#Imports\n",
    "import math\n",
    "import pandas as pd\n",
    "import tensorflow as tf\n",
    "import numpy as np\n",
    "from pandas import DataFrame\n",
    "import pathlib\n",
    "import IPython.display as display\n",
    "from PIL import Image\n",
    "import matplotlib.pyplot as plt\n",
    "import os\n",
    "from tensorflow.keras import datasets, layers, models\n",
    "import matplotlib.pyplot as plt\n",
    "from tensorflow.keras.models import Sequential\n",
    "from tensorflow.keras.layers import Dense, Conv2D, Flatten, Dropout, MaxPooling2D\n",
    "from tensorflow.keras.preprocessing.image import ImageDataGenerator\n",
    "\n",
    "#Prints version of TensorFlow\n",
    "print(tf.__version__)\n",
    "\n",
    "\n",
    "\n",
    "#Create Directories \n",
    "data_dir = pathlib.Path(\"C:/Users/duboi/Desktop/imgdataset/images\")\n",
    "\n",
    "path3 = pathlib.Path(\"C:/Users/duboi/Desktop/imgdataset\")\n",
    "\n",
    "AUTOTUNE = tf.data.experimental.AUTOTUNE\n",
    "\n",
    "\n",
    "\n",
    "\n"
   ]
  },
  {
   "cell_type": "code",
   "execution_count": 2,
   "metadata": {},
   "outputs": [
    {
     "data": {
      "text/html": [
       "<div>\n",
       "<style scoped>\n",
       "    .dataframe tbody tr th:only-of-type {\n",
       "        vertical-align: middle;\n",
       "    }\n",
       "\n",
       "    .dataframe tbody tr th {\n",
       "        vertical-align: top;\n",
       "    }\n",
       "\n",
       "    .dataframe thead th {\n",
       "        text-align: right;\n",
       "    }\n",
       "</style>\n",
       "<table border=\"1\" class=\"dataframe\">\n",
       "  <thead>\n",
       "    <tr style=\"text-align: right;\">\n",
       "      <th></th>\n",
       "      <th>Image_Index</th>\n",
       "      <th>Finding_Labels</th>\n",
       "      <th>Follow-up #</th>\n",
       "      <th>Patient ID</th>\n",
       "      <th>Patient Age</th>\n",
       "      <th>Patient Gender</th>\n",
       "      <th>View Position</th>\n",
       "      <th>OriginalImage[Width</th>\n",
       "      <th>Height]</th>\n",
       "      <th>OriginalImagePixelSpacing[x</th>\n",
       "      <th>y]</th>\n",
       "    </tr>\n",
       "  </thead>\n",
       "  <tbody>\n",
       "    <tr>\n",
       "      <th>0</th>\n",
       "      <td>00000001_000.png</td>\n",
       "      <td>Cardiomegaly</td>\n",
       "      <td>0</td>\n",
       "      <td>1</td>\n",
       "      <td>57</td>\n",
       "      <td>M</td>\n",
       "      <td>PA</td>\n",
       "      <td>2682</td>\n",
       "      <td>2749</td>\n",
       "      <td>0.143</td>\n",
       "      <td>0.143</td>\n",
       "    </tr>\n",
       "    <tr>\n",
       "      <th>1</th>\n",
       "      <td>00000001_001.png</td>\n",
       "      <td>Cardiomegaly</td>\n",
       "      <td>1</td>\n",
       "      <td>1</td>\n",
       "      <td>58</td>\n",
       "      <td>M</td>\n",
       "      <td>PA</td>\n",
       "      <td>2894</td>\n",
       "      <td>2729</td>\n",
       "      <td>0.143</td>\n",
       "      <td>0.143</td>\n",
       "    </tr>\n",
       "    <tr>\n",
       "      <th>2</th>\n",
       "      <td>00000001_001.png</td>\n",
       "      <td>Emphysema</td>\n",
       "      <td>1</td>\n",
       "      <td>1</td>\n",
       "      <td>58</td>\n",
       "      <td>M</td>\n",
       "      <td>PA</td>\n",
       "      <td>2894</td>\n",
       "      <td>2729</td>\n",
       "      <td>0.143</td>\n",
       "      <td>0.143</td>\n",
       "    </tr>\n",
       "    <tr>\n",
       "      <th>3</th>\n",
       "      <td>00000001_002.png</td>\n",
       "      <td>Cardiomegaly</td>\n",
       "      <td>2</td>\n",
       "      <td>1</td>\n",
       "      <td>58</td>\n",
       "      <td>M</td>\n",
       "      <td>PA</td>\n",
       "      <td>2500</td>\n",
       "      <td>2048</td>\n",
       "      <td>0.168</td>\n",
       "      <td>0.168</td>\n",
       "    </tr>\n",
       "    <tr>\n",
       "      <th>4</th>\n",
       "      <td>00000001_002.png</td>\n",
       "      <td>Effusion</td>\n",
       "      <td>2</td>\n",
       "      <td>1</td>\n",
       "      <td>58</td>\n",
       "      <td>M</td>\n",
       "      <td>PA</td>\n",
       "      <td>2500</td>\n",
       "      <td>2048</td>\n",
       "      <td>0.168</td>\n",
       "      <td>0.168</td>\n",
       "    </tr>\n",
       "  </tbody>\n",
       "</table>\n",
       "</div>"
      ],
      "text/plain": [
       "        Image_Index Finding_Labels  Follow-up #  Patient ID  Patient Age  \\\n",
       "0  00000001_000.png   Cardiomegaly            0           1           57   \n",
       "1  00000001_001.png   Cardiomegaly            1           1           58   \n",
       "2  00000001_001.png      Emphysema            1           1           58   \n",
       "3  00000001_002.png   Cardiomegaly            2           1           58   \n",
       "4  00000001_002.png       Effusion            2           1           58   \n",
       "\n",
       "  Patient Gender View Position  OriginalImage[Width  Height]  \\\n",
       "0              M            PA                 2682     2749   \n",
       "1              M            PA                 2894     2729   \n",
       "2              M            PA                 2894     2729   \n",
       "3              M            PA                 2500     2048   \n",
       "4              M            PA                 2500     2048   \n",
       "\n",
       "   OriginalImagePixelSpacing[x     y]  \n",
       "0                        0.143  0.143  \n",
       "1                        0.143  0.143  \n",
       "2                        0.143  0.143  \n",
       "3                        0.168  0.168  \n",
       "4                        0.168  0.168  "
      ]
     },
     "execution_count": 2,
     "metadata": {},
     "output_type": "execute_result"
    }
   ],
   "source": [
    "#Read in CSV file and display first 5 items\n",
    "df = pd.read_csv(\"C:/Users/duboi/Desktop/imgdataset/Data_Entry_2017_v2020.csv\")\n",
    "df.head()"
   ]
  },
  {
   "cell_type": "code",
   "execution_count": 3,
   "metadata": {},
   "outputs": [
    {
     "data": {
      "text/plain": [
       "Image_Index                     object\n",
       "Finding_Labels                  object\n",
       "Follow-up #                      int64\n",
       "Patient ID                       int64\n",
       "Patient Age                      int64\n",
       "Patient Gender                  object\n",
       "View Position                   object\n",
       "OriginalImage[Width              int64\n",
       "Height]                          int64\n",
       "OriginalImagePixelSpacing[x    float64\n",
       "y]                             float64\n",
       "dtype: object"
      ]
     },
     "execution_count": 3,
     "metadata": {},
     "output_type": "execute_result"
    }
   ],
   "source": [
    "#Display features\n",
    "df.dtypes"
   ]
  },
  {
   "cell_type": "code",
   "execution_count": 4,
   "metadata": {},
   "outputs": [
    {
     "data": {
      "text/plain": [
       "4555"
      ]
     },
     "execution_count": 4,
     "metadata": {},
     "output_type": "execute_result"
    }
   ],
   "source": [
    "#Prints the amount of images we have downloaded, not training and test images\n",
    "path, dirs, files = next(os.walk(data_dir))\n",
    "file_count = len(files)\n",
    "file_count"
   ]
  },
  {
   "cell_type": "code",
   "execution_count": 5,
   "metadata": {},
   "outputs": [
    {
     "name": "stdout",
     "output_type": "stream",
     "text": [
      "b'C:\\\\Users\\\\duboi\\\\Desktop\\\\imgdataset\\\\images\\\\00000469_000.png'\n",
      "b'C:\\\\Users\\\\duboi\\\\Desktop\\\\imgdataset\\\\images\\\\00000947_004.png'\n",
      "b'C:\\\\Users\\\\duboi\\\\Desktop\\\\imgdataset\\\\images\\\\00001197_000.png'\n",
      "b'C:\\\\Users\\\\duboi\\\\Desktop\\\\imgdataset\\\\images\\\\00000693_005.png'\n",
      "b'C:\\\\Users\\\\duboi\\\\Desktop\\\\imgdataset\\\\images\\\\00000259_000.png'\n"
     ]
    }
   ],
   "source": [
    "##Creates a list dataset (not used in our results)\n",
    "list_ds = tf.data.Dataset.list_files(str(data_dir/'*.png'))\n",
    "\n",
    "for f in list_ds.take(5):\n",
    "  print(f.numpy())"
   ]
  },
  {
   "cell_type": "markdown",
   "metadata": {},
   "source": [
    "# Getting our Data in the Correct Format\n",
    "- Gets each image into a the correct classfication folder"
   ]
  },
  {
   "cell_type": "code",
   "execution_count": 6,
   "metadata": {},
   "outputs": [
    {
     "data": {
      "text/plain": [
       "array(['Atelectasis', 'Cardiomegaly', 'Consolidation', 'Edema',\n",
       "       'Effusion', 'Emphysema', 'Fibrosis', 'Hernia', 'Infiltration',\n",
       "       'Mass', 'No Finding', 'Nodule', 'Pleural_Thickening', 'Pneumonia',\n",
       "       'Pneumothorax'], dtype='<U18')"
      ]
     },
     "execution_count": 6,
     "metadata": {},
     "output_type": "execute_result"
    }
   ],
   "source": [
    "import shutil\n",
    "from sklearn import preprocessing\n",
    "\n",
    "#Creates an array of the Classification names of our data\n",
    "CLASS_NAMES = np.array([item.name for item in path3.glob('*') if item.name != \"trainingdir\" and item.name!= \"images\"\n",
    "                       and item.name != \"Data_Entry_2017_v2020.csv\" and item.name!= \"valdir\"])\n",
    "CLASS_NAMES\n",
    "\n",
    "# - Code below cretes An array of Our image names and Labels and separates them\n",
    "#   from the data_dir into folders of their class names\n",
    "\n",
    "# # #**************************************************************8\n",
    "#   file_names = list(df['Image_Index'].values)\n",
    "#   img_labels = list(df['Finding_Labels'].values)\n",
    "\n",
    "##Creates folders\n",
    "#  folders_to_be_created = np.unique(list(CLASS_NAMES))\n",
    "\n",
    "##Puts them into the directory of our file( needs to be moved into the dataset folder manually)\n",
    "#  source = os.getcwd()\n",
    "\n",
    "##Makes a new folder for the Classification name if it is not already there\n",
    "# for new_path in folders_to_be_created:\n",
    "#     if not os.path.exists(\".//\" + new_path):\n",
    "#         os.makedirs(new_path)\n",
    "        \n",
    "# folders = folders_to_be_created.copy()\n",
    "\n",
    "##Gets Current image and label\n",
    "# for f in range(len(file_names)):\n",
    "#     current_img = file_names[f]\n",
    "#     current_label = img_labels[f]\n",
    "    \n",
    "##Moves each image into their correct classification folder\n",
    "##Since images in csv file are multi-classified, it creates a copy of the image that has multiple labels \n",
    "##and puts it into the next classification foldee\n",
    "#     if os.path.exists(data_dir/current_img):\n",
    "#         shutil.move(data_dir/current_img, path3/current_label/current_img)\n",
    "            \n",
    "#     else:\n",
    "#         for f in range(len(img_labels)):\n",
    "#             if img_labels[f] != current_label and os.path.exists(path3/img_labels[f]/current_img):\n",
    "#                 shutil.copy(path3/img_labels[f]/current_img, path3/current_label/current_img)\n",
    "        "
   ]
  },
  {
   "cell_type": "code",
   "execution_count": 7,
   "metadata": {},
   "outputs": [
    {
     "name": "stdout",
     "output_type": "stream",
     "text": [
      "Found 640 images belonging to 15 classes.\n"
     ]
    }
   ],
   "source": [
    "#Creates the image height, width, batch size, and epoch amount\n",
    "CLASS = ''\n",
    "IMG_HEIGHT = 224\n",
    "IMG_WIDTH = 224\n",
    "BATCH_SIZE = 5\n",
    "epochs = 15\n",
    "\n",
    "\n",
    "# The 1./255 is to convert from uint8 to float32 in range [0,1].\n",
    "image_generator = tf.keras.preprocessing.image.ImageDataGenerator(rescale=1./255)\n",
    "\n",
    "\n",
    "#Trains images just as a test to see if the correct images are shown\n",
    "trainn_data_gen = image_generator.flow_from_directory(directory=str(path3),\n",
    "                                                     batch_size=BATCH_SIZE,\n",
    "                                                     shuffle=True,\n",
    "                                                     target_size=(224, 224),\n",
    "                                                     classes = list(CLASS_NAMES))\n"
   ]
  },
  {
   "cell_type": "markdown",
   "metadata": {},
   "source": [
    "# Fist Attempt at training Data\n",
    "-Below are functions we created in our first attempt to load in and train our dataset"
   ]
  },
  {
   "cell_type": "code",
   "execution_count": 8,
   "metadata": {},
   "outputs": [],
   "source": [
    "\n",
    "\n",
    "\n",
    "\n",
    "# def get_label(file_path):\n",
    "#     # convert the path to a list of path components\n",
    "#     parts = tf.strings.split(file_path, os.path.sep)\n",
    "#     # The second to last is the class-directory\n",
    "#     #parts[-1] == CLASS\n",
    "#     return parts[-2] == CLASS_NAMES\n",
    "\n",
    "\n",
    "# def decode_img(img):\n",
    "#   # convert the compressed string to a 3D uint8 tensor\n",
    "#   img = tf.image.decode_jpeg(img, channels=3)\n",
    "#   # Use `convert_image_dtype` to convert to floats in the [0,1] range.\n",
    "#   img = tf.image.convert_image_dtype(img, tf.float32)\n",
    "#   # resize the image to the desired size.\n",
    "#   return tf.image.resize(img, [IMG_WIDTH, IMG_HEIGHT])\n",
    "\n",
    "# def process_path(file_path):\n",
    "#   label = get_label(file_path)\n",
    "#   # load the raw data from the file as a string\n",
    "#   img = tf.io.read_file(file_path)\n",
    "#   img = decode_img(img)\n",
    "#   return img, label\n",
    "\n",
    "\n",
    "# # Set `num_parallel_calls` so multiple images are loaded/processed in parallel.\n",
    "# labeled_ds = list_ds.map(process_path, num_parallel_calls=AUTOTUNE)\n",
    "\n",
    "# for image, label in labeled_ds.take(1):\n",
    "#   print(\"Image shape: \", image.numpy().shape)\n",
    "#   print(\"Label: \", label.numpy())"
   ]
  },
  {
   "cell_type": "code",
   "execution_count": 9,
   "metadata": {},
   "outputs": [],
   "source": [
    "# def prepare_for_training(ds, cache=True, shuffle_buffer_size=1000):\n",
    "#   # This is a small dataset, only load it once, and keep it in memory.\n",
    "#   # use `.cache(filename)` to cache preprocessing work for datasets that don't\n",
    "#   # fit in memory.\n",
    "#   if cache:\n",
    "#     if isinstance(cache, str):\n",
    "#       ds = ds.cache(cache)\n",
    "#     else:\n",
    "#       ds = ds.cache()\n",
    "\n",
    "#   ds = ds.shuffle(buffer_size=shuffle_buffer_size)\n",
    "\n",
    "#   # Repeat forever\n",
    "#   ds = ds.repeat()\n",
    "\n",
    "#   ds = ds.batch(BATCH_SIZE)\n",
    "\n",
    "#   # `prefetch` lets the dataset fetch batches in the background while the model\n",
    "#   # is training.\n",
    "#   ds = ds.prefetch(buffer_size=AUTOTUNE)\n",
    "\n",
    "#   return ds"
   ]
  },
  {
   "cell_type": "code",
   "execution_count": 10,
   "metadata": {},
   "outputs": [],
   "source": [
    "#train_ds = prepare_for_training(labeled_ds)\n"
   ]
  },
  {
   "cell_type": "code",
   "execution_count": 11,
   "metadata": {},
   "outputs": [],
   "source": [
    "#Create function to see how long it takes to train our data\n",
    "import time\n",
    "default_timeit_steps = 1000\n",
    "\n",
    "def timeit(ds, steps=default_timeit_steps):\n",
    "  start = time.time()\n",
    "  it = iter(ds)\n",
    "  for i in range(steps):\n",
    "    batch = next(it)\n",
    "    if i%10 == 0:\n",
    "      print('.',end='')\n",
    "  print()\n",
    "  end = time.time()\n",
    "\n",
    "  duration = end-start\n",
    "  print(\"{} batches: {} s\".format(steps, duration))\n",
    "  print(\"{:0.5f} Images/s\".format(BATCH_SIZE*steps/duration))"
   ]
  },
  {
   "cell_type": "code",
   "execution_count": 12,
   "metadata": {},
   "outputs": [],
   "source": [
    "# `keras.preprocessing`\n",
    "#timeit(train_data_gen)"
   ]
  },
  {
   "cell_type": "code",
   "execution_count": 13,
   "metadata": {},
   "outputs": [],
   "source": [
    "# `tf.data`\n",
    "#timeit(train_ds)"
   ]
  },
  {
   "cell_type": "code",
   "execution_count": 14,
   "metadata": {},
   "outputs": [],
   "source": [
    "#uncached_ds = prepare_for_training(labeled_ds, cache=False)\n",
    "#timeit(uncached_ds)"
   ]
  },
  {
   "cell_type": "code",
   "execution_count": 15,
   "metadata": {},
   "outputs": [],
   "source": [
    "# filecache_ds = prepare_for_training(labeled_ds, cache=\"./xrays.tfcache\")\n",
    "# timeit(filecache_ds)"
   ]
  },
  {
   "cell_type": "markdown",
   "metadata": {},
   "source": [
    "# Training our data"
   ]
  },
  {
   "cell_type": "code",
   "execution_count": 16,
   "metadata": {},
   "outputs": [],
   "source": [
    "#Creates directories for our training and validation data\n",
    "train_dir = os.path.join(path3, 'trainingdir')\n",
    "validation_dir = os.path.join(path3, 'valdir')"
   ]
  },
  {
   "cell_type": "code",
   "execution_count": 17,
   "metadata": {},
   "outputs": [],
   "source": [
    "#Creates directories of the first 2 classes in training and validation\n",
    "#To test if everything is working correctly\n",
    "train_A_dir = os.path.join(train_dir, CLASS_NAMES[0])  \n",
    "train_C_dir = os.path.join(train_dir, CLASS_NAMES[1] )  \n",
    "validation_A_dir = os.path.join(validation_dir, CLASS_NAMES[0])  \n",
    "validation_C_dir = os.path.join(validation_dir, CLASS_NAMES[1])  "
   ]
  },
  {
   "cell_type": "code",
   "execution_count": 18,
   "metadata": {},
   "outputs": [
    {
     "name": "stdout",
     "output_type": "stream",
     "text": [
      "2\n",
      "2\n",
      "1\n",
      "1\n"
     ]
    }
   ],
   "source": [
    "num_A_tr = len(os.listdir(train_A_dir))\n",
    "num_C_tr = len(os.listdir(train_C_dir))\n",
    "\n",
    "num_A_val = len(os.listdir(validation_A_dir))\n",
    "num_C_val = len(os.listdir(validation_C_dir))\n",
    "\n",
    "# total_train = num_A_tr + num_C_tr\n",
    "# total_val = num_A_val + num_C_val\n",
    "\n",
    "print(num_A_tr)\n",
    "print(num_C_tr)\n",
    "\n",
    "print(num_A_val)\n",
    "print(num_C_val)\n",
    "\n",
    "\n",
    "\n"
   ]
  },
  {
   "cell_type": "code",
   "execution_count": 19,
   "metadata": {},
   "outputs": [
    {
     "name": "stdout",
     "output_type": "stream",
     "text": [
      "Found 30 images belonging to 15 classes.\n"
     ]
    }
   ],
   "source": [
    "#Creates training and validation image generators to rescale our images\n",
    "train_image_generator = ImageDataGenerator(rescale=1./255) # Generator for our training data\n",
    "validation_image_generator = ImageDataGenerator(rescale=1./255) # Generator for our validation data\n",
    "\n",
    "\n",
    "\n",
    "#Trains training data\n",
    "train_data_gen = train_image_generator.flow_from_directory(batch_size=BATCH_SIZE,\n",
    "                                                           directory=train_dir,\n",
    "                                                           shuffle=True,\n",
    "                                                           target_size=(IMG_HEIGHT, IMG_WIDTH),\n",
    "                                                           class_mode='binary')"
   ]
  },
  {
   "cell_type": "code",
   "execution_count": 20,
   "metadata": {},
   "outputs": [
    {
     "name": "stdout",
     "output_type": "stream",
     "text": [
      "Found 16 images belonging to 15 classes.\n"
     ]
    }
   ],
   "source": [
    "#Trains validation data\n",
    "val_data_gen = validation_image_generator.flow_from_directory(batch_size=BATCH_SIZE,\n",
    "                                                              directory=validation_dir,\n",
    "                                                              target_size=(IMG_HEIGHT, IMG_WIDTH),\n",
    "                                                              class_mode='binary')"
   ]
  },
  {
   "cell_type": "code",
   "execution_count": 21,
   "metadata": {},
   "outputs": [
    {
     "data": {
      "image/png": "[encoded data removed]",
      "text/plain": [
       "<Figure size 720x720 with 5 Axes>"
      ]
     },
     "metadata": {
      "needs_background": "light"
     },
     "output_type": "display_data"
    }
   ],
   "source": [
    "#array of sample images to display\n",
    "sample_training_images, _ = next(train_data_gen)\n",
    "##Arrays for training and test images\n",
    "train_images, train_labels = next(train_data_gen)\n",
    "test_images, test_labels = next(val_data_gen)\n",
    "\n",
    "train_images, test_images = train_images / 255.0, test_images / 255.0\n",
    "# This function will plot images in the form of a grid with 1 row and 5 columns where images are placed in each column\n",
    "def plotImages(images_arr):\n",
    "    fig, axes = plt.subplots(1, 5, figsize=(10,10))\n",
    "    axes = axes.flatten()\n",
    "    for img, ax in zip( images_arr, axes):\n",
    "        ax.imshow(img)\n",
    "        ax.axis('off')\n",
    "    plt.tight_layout()\n",
    "    plt.show()\n",
    "    \n",
    "    \n",
    "plotImages(sample_training_images[:5])\n"
   ]
  },
  {
   "cell_type": "markdown",
   "metadata": {},
   "source": [
    "# Creating our Models"
   ]
  },
  {
   "cell_type": "code",
   "execution_count": 22,
   "metadata": {},
   "outputs": [
    {
     "name": "stdout",
     "output_type": "stream",
     "text": [
      "Model: \"sequential\"\n",
      "_________________________________________________________________\n",
      "Layer (type)                 Output Shape              Param #   \n",
      "=================================================================\n",
      "conv2d (Conv2D)              (None, 224, 224, 16)      448       \n",
      "_________________________________________________________________\n",
      "max_pooling2d (MaxPooling2D) (None, 112, 112, 16)      0         \n",
      "_________________________________________________________________\n",
      "conv2d_1 (Conv2D)            (None, 112, 112, 32)      4640      \n",
      "_________________________________________________________________\n",
      "max_pooling2d_1 (MaxPooling2 (None, 56, 56, 32)        0         \n",
      "_________________________________________________________________\n",
      "conv2d_2 (Conv2D)            (None, 56, 56, 64)        18496     \n",
      "_________________________________________________________________\n",
      "max_pooling2d_2 (MaxPooling2 (None, 28, 28, 64)        0         \n",
      "_________________________________________________________________\n",
      "flatten (Flatten)            (None, 50176)             0         \n",
      "_________________________________________________________________\n",
      "dense (Dense)                (None, 512)               25690624  \n",
      "_________________________________________________________________\n",
      "dense_1 (Dense)              (None, 1)                 513       \n",
      "=================================================================\n",
      "Total params: 25,714,721\n",
      "Trainable params: 25,714,721\n",
      "Non-trainable params: 0\n",
      "_________________________________________________________________\n"
     ]
    }
   ],
   "source": [
    "#Cretes our first Model\n",
    "model = Sequential([\n",
    "    Conv2D(16, 3, padding='same', activation='relu', input_shape=(IMG_HEIGHT, IMG_WIDTH ,3)),\n",
    "    MaxPooling2D(),\n",
    "    Conv2D(32, 3, padding='same', activation='relu'),\n",
    "    MaxPooling2D(),\n",
    "    Conv2D(64, 3, padding='same', activation='relu'),\n",
    "    MaxPooling2D(),\n",
    "    Flatten(),\n",
    "    Dense(512, activation='relu'),\n",
    "    Dense(1)\n",
    "])\n",
    "\n",
    "\n",
    "#Compiles the model\n",
    "model.compile(optimizer='adam',\n",
    "              loss=tf.keras.losses.BinaryCrossentropy(from_logits=True),\n",
    "              metrics=['accuracy'])\n",
    "\n",
    "\n",
    "#Prints summary of the model\n",
    "model.summary()\n"
   ]
  },
  {
   "cell_type": "code",
   "execution_count": 23,
   "metadata": {},
   "outputs": [
    {
     "name": "stdout",
     "output_type": "stream",
     "text": [
      "WARNING:tensorflow:From <ipython-input-23-a46bd2e1b47c>:7: Model.fit_generator (from tensorflow.python.keras.engine.training) is deprecated and will be removed in a future version.\n",
      "Instructions for updating:\n",
      "Please use Model.fit, which supports generators.\n",
      "WARNING:tensorflow:sample_weight modes were coerced from\n",
      "  ...\n",
      "    to  \n",
      "  ['...']\n",
      "WARNING:tensorflow:sample_weight modes were coerced from\n",
      "  ...\n",
      "    to  \n",
      "  ['...']\n",
      "Train for 6 steps, validate for 3 steps\n",
      "Epoch 1/15\n",
      "6/6 [==============================] - 4s 648ms/step - loss: -701.9972 - accuracy: 0.0667 - val_loss: -4472.5202 - val_accuracy: 0.0667\n",
      "Epoch 2/15\n",
      "6/6 [==============================] - 3s 466ms/step - loss: -11032.6437 - accuracy: 0.0667 - val_loss: -32464.7676 - val_accuracy: 0.0667\n",
      "Epoch 3/15\n",
      "6/6 [==============================] - 3s 483ms/step - loss: -75102.7897 - accuracy: 0.0667 - val_loss: -154155.3802 - val_accuracy: 0.0667\n",
      "Epoch 4/15\n",
      "6/6 [==============================] - 3s 511ms/step - loss: -287059.2344 - accuracy: 0.0667 - val_loss: -568438.5625 - val_accuracy: 0.0667\n",
      "Epoch 5/15\n",
      "6/6 [==============================] - 3s 500ms/step - loss: -978894.4271 - accuracy: 0.0667 - val_loss: -1807573.7500 - val_accuracy: 0.0667\n",
      "Epoch 6/15\n",
      "6/6 [==============================] - 3s 483ms/step - loss: -2939881.3750 - accuracy: 0.0667 - val_loss: -5122202.3333 - val_accuracy: 0.0667\n",
      "Epoch 7/15\n",
      "6/6 [==============================] - 3s 477ms/step - loss: -7503024.4167 - accuracy: 0.0667 - val_loss: -12710764.0000 - val_accuracy: 0.0667\n",
      "Epoch 8/15\n",
      "6/6 [==============================] - 3s 477ms/step - loss: -19125764.1667 - accuracy: 0.0667 - val_loss: -29125312.0000 - val_accuracy: 0.0667\n",
      "Epoch 9/15\n",
      "6/6 [==============================] - 3s 480ms/step - loss: -39951383.0000 - accuracy: 0.0667 - val_loss: -61804858.6667 - val_accuracy: 0.0667\n",
      "Epoch 10/15\n",
      "6/6 [==============================] - 3s 510ms/step - loss: -83658091.0000 - accuracy: 0.0667 - val_loss: -122740613.3333 - val_accuracy: 0.0667\n",
      "Epoch 11/15\n",
      "6/6 [==============================] - 3s 484ms/step - loss: -153704697.3333 - accuracy: 0.0667 - val_loss: -231701178.6667 - val_accuracy: 0.0667\n",
      "Epoch 12/15\n",
      "6/6 [==============================] - 3s 500ms/step - loss: -298982597.3333 - accuracy: 0.0667 - val_loss: -412415392.0000 - val_accuracy: 0.0667\n",
      "Epoch 13/15\n",
      "6/6 [==============================] - 3s 551ms/step - loss: -543052394.6667 - accuracy: 0.0667 - val_loss: -704133184.0000 - val_accuracy: 0.0667\n",
      "Epoch 14/15\n",
      "6/6 [==============================] - 4s 594ms/step - loss: -876822362.6667 - accuracy: 0.0667 - val_loss: -1163768789.3333 - val_accuracy: 0.0667\n",
      "Epoch 15/15\n",
      "6/6 [==============================] - 3s 552ms/step - loss: -1422933984.0000 - accuracy: 0.0667 - val_loss: -1856951808.0000 - val_accuracy: 0.0667\n"
     ]
    }
   ],
   "source": [
    "#fits our model and prints out our accuracy and loss for training and validation data\n",
    "history = model.fit_generator(\n",
    "    train_data_gen,\n",
    "    steps_per_epoch=30 // BATCH_SIZE,\n",
    "    epochs=epochs,\n",
    "    validation_data=val_data_gen,\n",
    "    validation_steps=15 // BATCH_SIZE\n",
    ")"
   ]
  },
  {
   "cell_type": "code",
   "execution_count": 24,
   "metadata": {},
   "outputs": [
    {
     "data": {
      "image/png": "[encoded data removed]",
      "text/plain": [
       "<Figure size 576x576 with 2 Axes>"
      ]
     },
     "metadata": {
      "needs_background": "light"
     },
     "output_type": "display_data"
    }
   ],
   "source": [
    "#Creaetes graphs of the training and validaton accuracy and loss\n",
    "acc = history.history['accuracy']\n",
    "val_acc = history.history['val_accuracy']\n",
    "\n",
    "loss=history.history['loss']\n",
    "val_loss=history.history['val_loss']\n",
    "\n",
    "epochs_range = range(epochs)\n",
    "\n",
    "plt.figure(figsize=(8, 8))\n",
    "plt.subplot(1, 2, 1)\n",
    "plt.plot(epochs_range, acc, label='Training Accuracy')\n",
    "plt.plot(epochs_range, val_acc, label='Validation Accuracy')\n",
    "plt.legend(loc='lower right')\n",
    "plt.title('Training and Validation Accuracy')\n",
    "\n",
    "plt.subplot(1, 2, 2)\n",
    "plt.plot(epochs_range, loss, label='Training Loss')\n",
    "plt.plot(epochs_range, val_loss, label='Validation Loss')\n",
    "plt.legend(loc='upper right')\n",
    "plt.title('Training and Validation Loss')\n",
    "plt.show()"
   ]
  },
  {
   "cell_type": "code",
   "execution_count": 25,
   "metadata": {},
   "outputs": [],
   "source": [
    "#Creates our second model\n",
    "model = models.Sequential()\n",
    "model.add(layers.Conv2D(32, (3, 3), activation='relu', input_shape=(IMG_HEIGHT, IMG_WIDTH, 3)))\n",
    "model.add(layers.MaxPooling2D((2, 2)))\n",
    "model.add(layers.Conv2D(64, (3, 3), activation='relu'))\n",
    "model.add(layers.MaxPooling2D((2, 2)))\n",
    "model.add(layers.Conv2D(64, (3, 3), activation='relu'))"
   ]
  },
  {
   "cell_type": "code",
   "execution_count": 26,
   "metadata": {},
   "outputs": [
    {
     "name": "stdout",
     "output_type": "stream",
     "text": [
      "Model: \"sequential_1\"\n",
      "_________________________________________________________________\n",
      "Layer (type)                 Output Shape              Param #   \n",
      "=================================================================\n",
      "conv2d_3 (Conv2D)            (None, 222, 222, 32)      896       \n",
      "_________________________________________________________________\n",
      "max_pooling2d_3 (MaxPooling2 (None, 111, 111, 32)      0         \n",
      "_________________________________________________________________\n",
      "conv2d_4 (Conv2D)            (None, 109, 109, 64)      18496     \n",
      "_________________________________________________________________\n",
      "max_pooling2d_4 (MaxPooling2 (None, 54, 54, 64)        0         \n",
      "_________________________________________________________________\n",
      "conv2d_5 (Conv2D)            (None, 52, 52, 64)        36928     \n",
      "=================================================================\n",
      "Total params: 56,320\n",
      "Trainable params: 56,320\n",
      "Non-trainable params: 0\n",
      "_________________________________________________________________\n"
     ]
    }
   ],
   "source": [
    "#Prints summary\n",
    "model.summary()"
   ]
  },
  {
   "cell_type": "code",
   "execution_count": 27,
   "metadata": {},
   "outputs": [],
   "source": [
    "#Adds layers to model\n",
    "model.add(layers.Flatten())\n",
    "model.add(layers.Dense(64, activation='relu'))\n",
    "model.add(layers.Dense(15))"
   ]
  },
  {
   "cell_type": "code",
   "execution_count": 28,
   "metadata": {},
   "outputs": [
    {
     "name": "stdout",
     "output_type": "stream",
     "text": [
      "Model: \"sequential_1\"\n",
      "_________________________________________________________________\n",
      "Layer (type)                 Output Shape              Param #   \n",
      "=================================================================\n",
      "conv2d_3 (Conv2D)            (None, 222, 222, 32)      896       \n",
      "_________________________________________________________________\n",
      "max_pooling2d_3 (MaxPooling2 (None, 111, 111, 32)      0         \n",
      "_________________________________________________________________\n",
      "conv2d_4 (Conv2D)            (None, 109, 109, 64)      18496     \n",
      "_________________________________________________________________\n",
      "max_pooling2d_4 (MaxPooling2 (None, 54, 54, 64)        0         \n",
      "_________________________________________________________________\n",
      "conv2d_5 (Conv2D)            (None, 52, 52, 64)        36928     \n",
      "_________________________________________________________________\n",
      "flatten_1 (Flatten)          (None, 173056)            0         \n",
      "_________________________________________________________________\n",
      "dense_2 (Dense)              (None, 64)                11075648  \n",
      "_________________________________________________________________\n",
      "dense_3 (Dense)              (None, 15)                975       \n",
      "=================================================================\n",
      "Total params: 11,132,943\n",
      "Trainable params: 11,132,943\n",
      "Non-trainable params: 0\n",
      "_________________________________________________________________\n"
     ]
    }
   ],
   "source": [
    "#Prints summary\n",
    "model.summary()"
   ]
  },
  {
   "cell_type": "code",
   "execution_count": 29,
   "metadata": {},
   "outputs": [
    {
     "name": "stdout",
     "output_type": "stream",
     "text": [
      "Train on 5 samples, validate on 5 samples\n",
      "Epoch 1/20\n",
      "5/5 [==============================] - 1s 214ms/sample - loss: 2.7080 - accuracy: 0.0000e+00 - val_loss: 2.7032 - val_accuracy: 0.2000\n",
      "Epoch 2/20\n",
      "5/5 [==============================] - 0s 94ms/sample - loss: 2.6563 - accuracy: 0.2000 - val_loss: 2.7458 - val_accuracy: 0.2000\n",
      "Epoch 3/20\n",
      "5/5 [==============================] - 1s 117ms/sample - loss: 2.4401 - accuracy: 0.2000 - val_loss: 2.9762 - val_accuracy: 0.2000\n",
      "Epoch 4/20\n",
      "5/5 [==============================] - 1s 113ms/sample - loss: 2.1291 - accuracy: 0.2000 - val_loss: 3.6877 - val_accuracy: 0.2000\n",
      "Epoch 5/20\n",
      "5/5 [==============================] - 1s 117ms/sample - loss: 1.9228 - accuracy: 0.2000 - val_loss: 4.5375 - val_accuracy: 0.2000\n",
      "Epoch 6/20\n",
      "5/5 [==============================] - 1s 115ms/sample - loss: 1.8362 - accuracy: 0.4000 - val_loss: 5.1075 - val_accuracy: 0.2000\n",
      "Epoch 7/20\n",
      "5/5 [==============================] - 1s 125ms/sample - loss: 1.7115 - accuracy: 0.2000 - val_loss: 5.6753 - val_accuracy: 0.0000e+00\n",
      "Epoch 8/20\n",
      "5/5 [==============================] - 1s 119ms/sample - loss: 1.6650 - accuracy: 0.2000 - val_loss: 6.0449 - val_accuracy: 0.0000e+00\n",
      "Epoch 9/20\n",
      "5/5 [==============================] - 1s 115ms/sample - loss: 1.6910 - accuracy: 0.2000 - val_loss: 6.3561 - val_accuracy: 0.2000\n",
      "Epoch 10/20\n",
      "5/5 [==============================] - 1s 109ms/sample - loss: 1.6824 - accuracy: 0.2000 - val_loss: 6.6900 - val_accuracy: 0.0000e+00\n",
      "Epoch 11/20\n",
      "5/5 [==============================] - 0s 86ms/sample - loss: 1.6277 - accuracy: 0.2000 - val_loss: 6.9404 - val_accuracy: 0.0000e+00\n",
      "Epoch 12/20\n",
      "5/5 [==============================] - 0s 84ms/sample - loss: 1.6041 - accuracy: 0.2000 - val_loss: 7.0388 - val_accuracy: 0.0000e+00\n",
      "Epoch 13/20\n",
      "5/5 [==============================] - 0s 85ms/sample - loss: 1.6262 - accuracy: 0.2000 - val_loss: 6.8502 - val_accuracy: 0.2000\n",
      "Epoch 14/20\n",
      "5/5 [==============================] - 1s 110ms/sample - loss: 1.6083 - accuracy: 0.2000 - val_loss: 6.5260 - val_accuracy: 0.2000\n",
      "Epoch 15/20\n",
      "5/5 [==============================] - 1s 116ms/sample - loss: 1.5758 - accuracy: 0.2000 - val_loss: 6.2591 - val_accuracy: 0.2000\n",
      "Epoch 16/20\n",
      "5/5 [==============================] - 1s 112ms/sample - loss: 1.5582 - accuracy: 0.4000 - val_loss: 6.0953 - val_accuracy: 0.0000e+00\n",
      "Epoch 17/20\n",
      "5/5 [==============================] - 1s 107ms/sample - loss: 1.5522 - accuracy: 0.4000 - val_loss: 5.9358 - val_accuracy: 0.0000e+00\n",
      "Epoch 18/20\n",
      "5/5 [==============================] - 1s 115ms/sample - loss: 1.5310 - accuracy: 0.4000 - val_loss: 5.7714 - val_accuracy: 0.0000e+00\n",
      "Epoch 19/20\n",
      "5/5 [==============================] - 0s 94ms/sample - loss: 1.5006 - accuracy: 0.6000 - val_loss: 5.7176 - val_accuracy: 0.0000e+00\n",
      "Epoch 20/20\n",
      "5/5 [==============================] - 0s 87ms/sample - loss: 1.4740 - accuracy: 0.8000 - val_loss: 5.8877 - val_accuracy: 0.0000e+00\n"
     ]
    }
   ],
   "source": [
    "#Compiles the model\n",
    "model.compile(optimizer='adam',\n",
    "              loss=tf.keras.losses.SparseCategoricalCrossentropy(from_logits=True),\n",
    "              metrics=['accuracy'])\n",
    "\n",
    "#fits model and prints accuracy and loss for our training and validation data\n",
    "history = model.fit(train_images, train_labels, epochs=20, \n",
    "                    validation_data=(test_images, test_labels))"
   ]
  },
  {
   "cell_type": "code",
   "execution_count": 30,
   "metadata": {},
   "outputs": [
    {
     "name": "stdout",
     "output_type": "stream",
     "text": [
      "5/5 - 0s - loss: 5.8877 - accuracy: 0.0000e+00\n"
     ]
    },
    {
     "data": {
      "image/png": "[encoded data removed]",
      "text/plain": [
       "<Figure size 432x288 with 1 Axes>"
      ]
     },
     "metadata": {
      "needs_background": "light"
     },
     "output_type": "display_data"
    }
   ],
   "source": [
    "plt.plot(history.history['accuracy'], label='accuracy')\n",
    "plt.plot(history.history['val_accuracy'], label = 'val_accuracy')\n",
    "plt.xlabel('Epoch')\n",
    "plt.ylabel('Accuracy')\n",
    "plt.ylim([0, 1])\n",
    "plt.legend(loc='lower right')\n",
    "\n",
    "test_loss, test_acc = model.evaluate(test_images,  test_labels, verbose=2)"
   ]
  },
  {
   "cell_type": "code",
   "execution_count": 31,
   "metadata": {},
   "outputs": [
    {
     "name": "stdout",
     "output_type": "stream",
     "text": [
      "0.0\n"
     ]
    }
   ],
   "source": [
    "print(test_acc)"
   ]
  }
 ],
 "metadata": {
  "kernelspec": {
   "display_name": "Python 3",
   "language": "python",
   "name": "python3"
  },
  "language_info": {
   "codemirror_mode": {
    "name": "ipython",
    "version": 3
   },
   "file_extension": ".py",
   "mimetype": "text/x-python",
   "name": "python",
   "nbconvert_exporter": "python",
   "pygments_lexer": "ipython3",
   "version": "3.7.7"
  }
 },
 "nbformat": 4,
 "nbformat_minor": 4
}
